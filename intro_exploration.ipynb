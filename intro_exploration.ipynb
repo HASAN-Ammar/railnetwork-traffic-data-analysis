{
 "cells": [
  {
   "cell_type": "markdown",
   "id": "0b8f0aa9",
   "metadata": {},
   "source": [
    "# Notebook 1/2: Initial data exploration and cleaning"
   ]
  },
  {
   "cell_type": "markdown",
   "id": "85d636a3",
   "metadata": {},
   "source": [
    "# Data Wrangling\n"
   ]
  },
  {
   "cell_type": "markdown",
   "id": "652bbda6",
   "metadata": {},
   "source": [
    "## Import Libraries"
   ]
  },
  {
   "cell_type": "code",
   "execution_count": 1,
   "id": "f83b8cd4",
   "metadata": {},
   "outputs": [],
   "source": [
    "import numpy as np\n",
    "import pandas as pd\n"
   ]
  },
  {
   "cell_type": "markdown",
   "id": "ed560fa2",
   "metadata": {},
   "source": [
    "## Reading Datasets\n",
    "### Daily traffic 1st & 2nd semesters of 2019\n"
   ]
  },
  {
   "cell_type": "code",
   "execution_count": 2,
   "id": "08eed0fb",
   "metadata": {},
   "outputs": [],
   "source": [
    "nb_2019s1 = pd.read_csv(\"datasets/2019_S1_NB_FER.txt\", sep=\"\\t\")\n",
    "nb_2019s2 = pd.read_csv(\"datasets/2019_S2_NB_FER.txt\", sep=\"\\t\")"
   ]
  },
  {
   "cell_type": "code",
   "execution_count": 3,
   "id": "567edfb7",
   "metadata": {},
   "outputs": [
    {
     "data": {
      "text/html": [
       "<div>\n",
       "<style scoped>\n",
       "    .dataframe tbody tr th:only-of-type {\n",
       "        vertical-align: middle;\n",
       "    }\n",
       "\n",
       "    .dataframe tbody tr th {\n",
       "        vertical-align: top;\n",
       "    }\n",
       "\n",
       "    .dataframe thead th {\n",
       "        text-align: right;\n",
       "    }\n",
       "</style>\n",
       "<table border=\"1\" class=\"dataframe\">\n",
       "  <thead>\n",
       "    <tr style=\"text-align: right;\">\n",
       "      <th></th>\n",
       "      <th>JOUR</th>\n",
       "      <th>CODE_STIF_TRNS</th>\n",
       "      <th>CODE_STIF_RES</th>\n",
       "      <th>CODE_STIF_ARRET</th>\n",
       "      <th>LIBELLE_ARRET</th>\n",
       "      <th>ID_REFA_LDA</th>\n",
       "      <th>CATEGORIE_TITRE</th>\n",
       "      <th>NB_VALD</th>\n",
       "    </tr>\n",
       "  </thead>\n",
       "  <tbody>\n",
       "    <tr>\n",
       "      <th>0</th>\n",
       "      <td>01/01/2019</td>\n",
       "      <td>100</td>\n",
       "      <td>110</td>\n",
       "      <td>1</td>\n",
       "      <td>PORTE MAILLOT</td>\n",
       "      <td>71379</td>\n",
       "      <td>?</td>\n",
       "      <td>38</td>\n",
       "    </tr>\n",
       "    <tr>\n",
       "      <th>1</th>\n",
       "      <td>01/01/2019</td>\n",
       "      <td>100</td>\n",
       "      <td>110</td>\n",
       "      <td>1</td>\n",
       "      <td>PORTE MAILLOT</td>\n",
       "      <td>71379</td>\n",
       "      <td>AMETHYSTE</td>\n",
       "      <td>91</td>\n",
       "    </tr>\n",
       "    <tr>\n",
       "      <th>2</th>\n",
       "      <td>01/01/2019</td>\n",
       "      <td>100</td>\n",
       "      <td>110</td>\n",
       "      <td>1</td>\n",
       "      <td>PORTE MAILLOT</td>\n",
       "      <td>71379</td>\n",
       "      <td>FGT</td>\n",
       "      <td>122</td>\n",
       "    </tr>\n",
       "    <tr>\n",
       "      <th>3</th>\n",
       "      <td>01/01/2019</td>\n",
       "      <td>100</td>\n",
       "      <td>110</td>\n",
       "      <td>1</td>\n",
       "      <td>PORTE MAILLOT</td>\n",
       "      <td>71379</td>\n",
       "      <td>IMAGINE R</td>\n",
       "      <td>531</td>\n",
       "    </tr>\n",
       "    <tr>\n",
       "      <th>4</th>\n",
       "      <td>01/01/2019</td>\n",
       "      <td>100</td>\n",
       "      <td>110</td>\n",
       "      <td>1</td>\n",
       "      <td>PORTE MAILLOT</td>\n",
       "      <td>71379</td>\n",
       "      <td>NAVIGO</td>\n",
       "      <td>2336</td>\n",
       "    </tr>\n",
       "  </tbody>\n",
       "</table>\n",
       "</div>"
      ],
      "text/plain": [
       "         JOUR  CODE_STIF_TRNS CODE_STIF_RES CODE_STIF_ARRET  LIBELLE_ARRET  \\\n",
       "0  01/01/2019             100           110               1  PORTE MAILLOT   \n",
       "1  01/01/2019             100           110               1  PORTE MAILLOT   \n",
       "2  01/01/2019             100           110               1  PORTE MAILLOT   \n",
       "3  01/01/2019             100           110               1  PORTE MAILLOT   \n",
       "4  01/01/2019             100           110               1  PORTE MAILLOT   \n",
       "\n",
       "   ID_REFA_LDA CATEGORIE_TITRE  NB_VALD  \n",
       "0        71379               ?       38  \n",
       "1        71379       AMETHYSTE       91  \n",
       "2        71379             FGT      122  \n",
       "3        71379       IMAGINE R      531  \n",
       "4        71379          NAVIGO     2336  "
      ]
     },
     "execution_count": 3,
     "metadata": {},
     "output_type": "execute_result"
    }
   ],
   "source": [
    "nb_2019s1.head()"
   ]
  },
  {
   "cell_type": "code",
   "execution_count": 4,
   "id": "414c3e39",
   "metadata": {},
   "outputs": [
    {
     "data": {
      "text/html": [
       "<div>\n",
       "<style scoped>\n",
       "    .dataframe tbody tr th:only-of-type {\n",
       "        vertical-align: middle;\n",
       "    }\n",
       "\n",
       "    .dataframe tbody tr th {\n",
       "        vertical-align: top;\n",
       "    }\n",
       "\n",
       "    .dataframe thead th {\n",
       "        text-align: right;\n",
       "    }\n",
       "</style>\n",
       "<table border=\"1\" class=\"dataframe\">\n",
       "  <thead>\n",
       "    <tr style=\"text-align: right;\">\n",
       "      <th></th>\n",
       "      <th>JOUR</th>\n",
       "      <th>CODE_STIF_TRNS</th>\n",
       "      <th>CODE_STIF_RES</th>\n",
       "      <th>CODE_STIF_ARRET</th>\n",
       "      <th>LIBELLE_ARRET</th>\n",
       "      <th>ID_REFA_LDA</th>\n",
       "      <th>CATEGORIE_TITRE</th>\n",
       "      <th>NB_VALD</th>\n",
       "    </tr>\n",
       "  </thead>\n",
       "  <tbody>\n",
       "    <tr>\n",
       "      <th>953449</th>\n",
       "      <td>31/12/2019</td>\n",
       "      <td>810</td>\n",
       "      <td>802</td>\n",
       "      <td>905</td>\n",
       "      <td>VILLEPINTE</td>\n",
       "      <td>73547</td>\n",
       "      <td>IMAGINE R</td>\n",
       "      <td>122</td>\n",
       "    </tr>\n",
       "    <tr>\n",
       "      <th>953450</th>\n",
       "      <td>31/12/2019</td>\n",
       "      <td>810</td>\n",
       "      <td>802</td>\n",
       "      <td>905</td>\n",
       "      <td>VILLEPINTE</td>\n",
       "      <td>73547</td>\n",
       "      <td>NAVIGO</td>\n",
       "      <td>897</td>\n",
       "    </tr>\n",
       "    <tr>\n",
       "      <th>953451</th>\n",
       "      <td>31/12/2019</td>\n",
       "      <td>810</td>\n",
       "      <td>802</td>\n",
       "      <td>905</td>\n",
       "      <td>VILLEPINTE</td>\n",
       "      <td>73547</td>\n",
       "      <td>NAVIGO JOUR</td>\n",
       "      <td>5</td>\n",
       "    </tr>\n",
       "    <tr>\n",
       "      <th>953452</th>\n",
       "      <td>31/12/2019</td>\n",
       "      <td>810</td>\n",
       "      <td>802</td>\n",
       "      <td>905</td>\n",
       "      <td>VILLEPINTE</td>\n",
       "      <td>73547</td>\n",
       "      <td>NON DEFINI</td>\n",
       "      <td>26</td>\n",
       "    </tr>\n",
       "    <tr>\n",
       "      <th>953453</th>\n",
       "      <td>31/12/2019</td>\n",
       "      <td>810</td>\n",
       "      <td>802</td>\n",
       "      <td>905</td>\n",
       "      <td>VILLEPINTE</td>\n",
       "      <td>73547</td>\n",
       "      <td>TST</td>\n",
       "      <td>131</td>\n",
       "    </tr>\n",
       "  </tbody>\n",
       "</table>\n",
       "</div>"
      ],
      "text/plain": [
       "              JOUR  CODE_STIF_TRNS CODE_STIF_RES CODE_STIF_ARRET  \\\n",
       "953449  31/12/2019             810           802             905   \n",
       "953450  31/12/2019             810           802             905   \n",
       "953451  31/12/2019             810           802             905   \n",
       "953452  31/12/2019             810           802             905   \n",
       "953453  31/12/2019             810           802             905   \n",
       "\n",
       "       LIBELLE_ARRET  ID_REFA_LDA CATEGORIE_TITRE  NB_VALD  \n",
       "953449    VILLEPINTE        73547       IMAGINE R      122  \n",
       "953450    VILLEPINTE        73547          NAVIGO      897  \n",
       "953451    VILLEPINTE        73547     NAVIGO JOUR        5  \n",
       "953452    VILLEPINTE        73547      NON DEFINI       26  \n",
       "953453    VILLEPINTE        73547             TST      131  "
      ]
     },
     "execution_count": 4,
     "metadata": {},
     "output_type": "execute_result"
    }
   ],
   "source": [
    "nb_2019s2.tail()"
   ]
  },
  {
   "cell_type": "code",
   "execution_count": 5,
   "id": "968d5c96",
   "metadata": {},
   "outputs": [
    {
     "name": "stdout",
     "output_type": "stream",
     "text": [
      "<class 'pandas.core.frame.DataFrame'>\n",
      "RangeIndex: 934851 entries, 0 to 934850\n",
      "Data columns (total 8 columns):\n",
      " #   Column           Non-Null Count   Dtype \n",
      "---  ------           --------------   ----- \n",
      " 0   JOUR             934851 non-null  object\n",
      " 1   CODE_STIF_TRNS   934851 non-null  int64 \n",
      " 2   CODE_STIF_RES    934851 non-null  object\n",
      " 3   CODE_STIF_ARRET  934851 non-null  object\n",
      " 4   LIBELLE_ARRET    934851 non-null  object\n",
      " 5   ID_REFA_LDA      934851 non-null  int64 \n",
      " 6   CATEGORIE_TITRE  934851 non-null  object\n",
      " 7   NB_VALD          934851 non-null  int64 \n",
      "dtypes: int64(3), object(5)\n",
      "memory usage: 57.1+ MB\n"
     ]
    }
   ],
   "source": [
    "nb_2019s1.info()"
   ]
  },
  {
   "cell_type": "code",
   "execution_count": 6,
   "id": "2020e4f3",
   "metadata": {},
   "outputs": [
    {
     "name": "stdout",
     "output_type": "stream",
     "text": [
      "<class 'pandas.core.frame.DataFrame'>\n",
      "RangeIndex: 953454 entries, 0 to 953453\n",
      "Data columns (total 8 columns):\n",
      " #   Column           Non-Null Count   Dtype \n",
      "---  ------           --------------   ----- \n",
      " 0   JOUR             953454 non-null  object\n",
      " 1   CODE_STIF_TRNS   953454 non-null  int64 \n",
      " 2   CODE_STIF_RES    953454 non-null  object\n",
      " 3   CODE_STIF_ARRET  953454 non-null  object\n",
      " 4   LIBELLE_ARRET    953454 non-null  object\n",
      " 5   ID_REFA_LDA      953454 non-null  int64 \n",
      " 6   CATEGORIE_TITRE  953454 non-null  object\n",
      " 7   NB_VALD          953454 non-null  int64 \n",
      "dtypes: int64(3), object(5)\n",
      "memory usage: 58.2+ MB\n"
     ]
    }
   ],
   "source": [
    "nb_2019s2.info()"
   ]
  },
  {
   "cell_type": "code",
   "execution_count": 7,
   "id": "483c4399",
   "metadata": {},
   "outputs": [
    {
     "data": {
      "text/plain": [
       "JOUR                 181\n",
       "CODE_STIF_TRNS         3\n",
       "CODE_STIF_RES         13\n",
       "CODE_STIF_ARRET      747\n",
       "LIBELLE_ARRET        723\n",
       "ID_REFA_LDA          718\n",
       "CATEGORIE_TITRE        9\n",
       "NB_VALD            19686\n",
       "dtype: int64"
      ]
     },
     "execution_count": 7,
     "metadata": {},
     "output_type": "execute_result"
    }
   ],
   "source": [
    "nb_2019s1.nunique()"
   ]
  },
  {
   "cell_type": "code",
   "execution_count": 8,
   "id": "82d819e1",
   "metadata": {},
   "outputs": [
    {
     "data": {
      "text/plain": [
       "JOUR                 184\n",
       "CODE_STIF_TRNS         3\n",
       "CODE_STIF_RES         13\n",
       "CODE_STIF_ARRET      747\n",
       "LIBELLE_ARRET        724\n",
       "ID_REFA_LDA          719\n",
       "CATEGORIE_TITRE        9\n",
       "NB_VALD            18630\n",
       "dtype: int64"
      ]
     },
     "execution_count": 8,
     "metadata": {},
     "output_type": "execute_result"
    }
   ],
   "source": [
    "nb_2019s2.nunique()"
   ]
  },
  {
   "cell_type": "code",
   "execution_count": 9,
   "id": "e0b98c37",
   "metadata": {},
   "outputs": [
    {
     "data": {
      "text/plain": [
       "array(['110', 'ND ', '800', '803', '804', '805', '850', '851', '852',\n",
       "       '853', '854', '801', '802'], dtype=object)"
      ]
     },
     "execution_count": 9,
     "metadata": {},
     "output_type": "execute_result"
    }
   ],
   "source": [
    "nb_2019s1['CODE_STIF_RES'].unique()"
   ]
  },
  {
   "cell_type": "code",
   "execution_count": 10,
   "id": "f1b402be",
   "metadata": {},
   "outputs": [
    {
     "data": {
      "text/plain": [
       "array(['110', 'ND ', '800', '803', '804', '805', '850', '851', '852',\n",
       "       '853', '854', '801', '802'], dtype=object)"
      ]
     },
     "execution_count": 10,
     "metadata": {},
     "output_type": "execute_result"
    }
   ],
   "source": [
    "nb_2019s2['CODE_STIF_RES'].unique()"
   ]
  },
  {
   "cell_type": "code",
   "execution_count": 11,
   "id": "faf87c9c",
   "metadata": {},
   "outputs": [
    {
     "data": {
      "text/plain": [
       "array(['?', 'AMETHYSTE', 'FGT', 'IMAGINE R', 'NAVIGO', 'NAVIGO JOUR',\n",
       "       'NON DEFINI', 'TST', 'AUTRE TITRE'], dtype=object)"
      ]
     },
     "execution_count": 11,
     "metadata": {},
     "output_type": "execute_result"
    }
   ],
   "source": [
    "nb_2019s1['CATEGORIE_TITRE'].unique()"
   ]
  },
  {
   "cell_type": "code",
   "execution_count": 12,
   "id": "9179910e",
   "metadata": {},
   "outputs": [
    {
     "data": {
      "text/plain": [
       "array(['?', 'AMETHYSTE', 'AUTRE TITRE', 'FGT', 'IMAGINE R', 'NAVIGO',\n",
       "       'NAVIGO JOUR', 'NON DEFINI', 'TST'], dtype=object)"
      ]
     },
     "execution_count": 12,
     "metadata": {},
     "output_type": "execute_result"
    }
   ],
   "source": [
    "nb_2019s2['CATEGORIE_TITRE'].unique()"
   ]
  },
  {
   "cell_type": "markdown",
   "id": "98dd1170",
   "metadata": {},
   "source": [
    "### Daily traffic 1st & 2nd semesters 2020"
   ]
  },
  {
   "cell_type": "code",
   "execution_count": 13,
   "id": "65a40c75",
   "metadata": {},
   "outputs": [],
   "source": [
    "nb_2020s1 = pd.read_csv(\"datasets/2020_S1_NB_FER.txt\", sep=\"\\t\")\n",
    "nb_2020s2 = pd.read_csv(\"datasets/2020_S2_NB_FER.txt\", sep=\"\\t\")"
   ]
  },
  {
   "cell_type": "code",
   "execution_count": 14,
   "id": "859d1864",
   "metadata": {},
   "outputs": [
    {
     "data": {
      "text/html": [
       "<div>\n",
       "<style scoped>\n",
       "    .dataframe tbody tr th:only-of-type {\n",
       "        vertical-align: middle;\n",
       "    }\n",
       "\n",
       "    .dataframe tbody tr th {\n",
       "        vertical-align: top;\n",
       "    }\n",
       "\n",
       "    .dataframe thead th {\n",
       "        text-align: right;\n",
       "    }\n",
       "</style>\n",
       "<table border=\"1\" class=\"dataframe\">\n",
       "  <thead>\n",
       "    <tr style=\"text-align: right;\">\n",
       "      <th></th>\n",
       "      <th>JOUR</th>\n",
       "      <th>CODE_STIF_TRNS</th>\n",
       "      <th>CODE_STIF_RES</th>\n",
       "      <th>CODE_STIF_ARRET</th>\n",
       "      <th>LIBELLE_ARRET</th>\n",
       "      <th>ID_REFA_LDA</th>\n",
       "      <th>CATEGORIE_TITRE</th>\n",
       "      <th>NB_VALD</th>\n",
       "    </tr>\n",
       "  </thead>\n",
       "  <tbody>\n",
       "    <tr>\n",
       "      <th>0</th>\n",
       "      <td>01/01/2020</td>\n",
       "      <td>100</td>\n",
       "      <td>110</td>\n",
       "      <td>1</td>\n",
       "      <td>PORTE MAILLOT</td>\n",
       "      <td>71379</td>\n",
       "      <td>?</td>\n",
       "      <td>28</td>\n",
       "    </tr>\n",
       "    <tr>\n",
       "      <th>1</th>\n",
       "      <td>01/01/2020</td>\n",
       "      <td>100</td>\n",
       "      <td>110</td>\n",
       "      <td>1</td>\n",
       "      <td>PORTE MAILLOT</td>\n",
       "      <td>71379</td>\n",
       "      <td>AMETHYSTE</td>\n",
       "      <td>83</td>\n",
       "    </tr>\n",
       "    <tr>\n",
       "      <th>2</th>\n",
       "      <td>01/01/2020</td>\n",
       "      <td>100</td>\n",
       "      <td>110</td>\n",
       "      <td>1</td>\n",
       "      <td>PORTE MAILLOT</td>\n",
       "      <td>71379</td>\n",
       "      <td>AUTRE TITRE</td>\n",
       "      <td>94</td>\n",
       "    </tr>\n",
       "    <tr>\n",
       "      <th>3</th>\n",
       "      <td>01/01/2020</td>\n",
       "      <td>100</td>\n",
       "      <td>110</td>\n",
       "      <td>1</td>\n",
       "      <td>PORTE MAILLOT</td>\n",
       "      <td>71379</td>\n",
       "      <td>FGT</td>\n",
       "      <td>84</td>\n",
       "    </tr>\n",
       "    <tr>\n",
       "      <th>4</th>\n",
       "      <td>01/01/2020</td>\n",
       "      <td>100</td>\n",
       "      <td>110</td>\n",
       "      <td>1</td>\n",
       "      <td>PORTE MAILLOT</td>\n",
       "      <td>71379</td>\n",
       "      <td>IMAGINE R</td>\n",
       "      <td>522</td>\n",
       "    </tr>\n",
       "  </tbody>\n",
       "</table>\n",
       "</div>"
      ],
      "text/plain": [
       "         JOUR  CODE_STIF_TRNS CODE_STIF_RES CODE_STIF_ARRET  LIBELLE_ARRET  \\\n",
       "0  01/01/2020             100           110               1  PORTE MAILLOT   \n",
       "1  01/01/2020             100           110               1  PORTE MAILLOT   \n",
       "2  01/01/2020             100           110               1  PORTE MAILLOT   \n",
       "3  01/01/2020             100           110               1  PORTE MAILLOT   \n",
       "4  01/01/2020             100           110               1  PORTE MAILLOT   \n",
       "\n",
       "   ID_REFA_LDA CATEGORIE_TITRE  NB_VALD  \n",
       "0        71379               ?       28  \n",
       "1        71379       AMETHYSTE       83  \n",
       "2        71379     AUTRE TITRE       94  \n",
       "3        71379             FGT       84  \n",
       "4        71379       IMAGINE R      522  "
      ]
     },
     "execution_count": 14,
     "metadata": {},
     "output_type": "execute_result"
    }
   ],
   "source": [
    "nb_2020s1.head()"
   ]
  },
  {
   "cell_type": "code",
   "execution_count": 15,
   "id": "fdcd0412",
   "metadata": {},
   "outputs": [
    {
     "data": {
      "text/html": [
       "<div>\n",
       "<style scoped>\n",
       "    .dataframe tbody tr th:only-of-type {\n",
       "        vertical-align: middle;\n",
       "    }\n",
       "\n",
       "    .dataframe tbody tr th {\n",
       "        vertical-align: top;\n",
       "    }\n",
       "\n",
       "    .dataframe thead th {\n",
       "        text-align: right;\n",
       "    }\n",
       "</style>\n",
       "<table border=\"1\" class=\"dataframe\">\n",
       "  <thead>\n",
       "    <tr style=\"text-align: right;\">\n",
       "      <th></th>\n",
       "      <th>JOUR</th>\n",
       "      <th>CODE_STIF_TRNS</th>\n",
       "      <th>CODE_STIF_RES</th>\n",
       "      <th>CODE_STIF_ARRET</th>\n",
       "      <th>LIBELLE_ARRET</th>\n",
       "      <th>ID_REFA_LDA</th>\n",
       "      <th>CATEGORIE_TITRE</th>\n",
       "      <th>NB_VALD</th>\n",
       "    </tr>\n",
       "  </thead>\n",
       "  <tbody>\n",
       "    <tr>\n",
       "      <th>1054007</th>\n",
       "      <td>31/12/2020</td>\n",
       "      <td>810</td>\n",
       "      <td>802</td>\n",
       "      <td>905</td>\n",
       "      <td>VILLEPINTE</td>\n",
       "      <td>73547</td>\n",
       "      <td>FGT</td>\n",
       "      <td>56</td>\n",
       "    </tr>\n",
       "    <tr>\n",
       "      <th>1054008</th>\n",
       "      <td>31/12/2020</td>\n",
       "      <td>810</td>\n",
       "      <td>802</td>\n",
       "      <td>905</td>\n",
       "      <td>VILLEPINTE</td>\n",
       "      <td>73547</td>\n",
       "      <td>IMAGINE R</td>\n",
       "      <td>55</td>\n",
       "    </tr>\n",
       "    <tr>\n",
       "      <th>1054009</th>\n",
       "      <td>31/12/2020</td>\n",
       "      <td>810</td>\n",
       "      <td>802</td>\n",
       "      <td>905</td>\n",
       "      <td>VILLEPINTE</td>\n",
       "      <td>73547</td>\n",
       "      <td>NAVIGO</td>\n",
       "      <td>331</td>\n",
       "    </tr>\n",
       "    <tr>\n",
       "      <th>1054010</th>\n",
       "      <td>31/12/2020</td>\n",
       "      <td>810</td>\n",
       "      <td>802</td>\n",
       "      <td>905</td>\n",
       "      <td>VILLEPINTE</td>\n",
       "      <td>73547</td>\n",
       "      <td>NON DEFINI</td>\n",
       "      <td>17</td>\n",
       "    </tr>\n",
       "    <tr>\n",
       "      <th>1054011</th>\n",
       "      <td>31/12/2020</td>\n",
       "      <td>810</td>\n",
       "      <td>802</td>\n",
       "      <td>905</td>\n",
       "      <td>VILLEPINTE</td>\n",
       "      <td>73547</td>\n",
       "      <td>TST</td>\n",
       "      <td>84</td>\n",
       "    </tr>\n",
       "  </tbody>\n",
       "</table>\n",
       "</div>"
      ],
      "text/plain": [
       "               JOUR  CODE_STIF_TRNS CODE_STIF_RES CODE_STIF_ARRET  \\\n",
       "1054007  31/12/2020             810           802             905   \n",
       "1054008  31/12/2020             810           802             905   \n",
       "1054009  31/12/2020             810           802             905   \n",
       "1054010  31/12/2020             810           802             905   \n",
       "1054011  31/12/2020             810           802             905   \n",
       "\n",
       "        LIBELLE_ARRET  ID_REFA_LDA CATEGORIE_TITRE  NB_VALD  \n",
       "1054007    VILLEPINTE        73547             FGT       56  \n",
       "1054008    VILLEPINTE        73547       IMAGINE R       55  \n",
       "1054009    VILLEPINTE        73547          NAVIGO      331  \n",
       "1054010    VILLEPINTE        73547      NON DEFINI       17  \n",
       "1054011    VILLEPINTE        73547             TST       84  "
      ]
     },
     "execution_count": 15,
     "metadata": {},
     "output_type": "execute_result"
    }
   ],
   "source": [
    "nb_2020s2.tail()"
   ]
  },
  {
   "cell_type": "code",
   "execution_count": 16,
   "id": "52ad267a",
   "metadata": {},
   "outputs": [
    {
     "name": "stdout",
     "output_type": "stream",
     "text": [
      "<class 'pandas.core.frame.DataFrame'>\n",
      "RangeIndex: 887493 entries, 0 to 887492\n",
      "Data columns (total 8 columns):\n",
      " #   Column           Non-Null Count   Dtype \n",
      "---  ------           --------------   ----- \n",
      " 0   JOUR             887493 non-null  object\n",
      " 1   CODE_STIF_TRNS   887493 non-null  int64 \n",
      " 2   CODE_STIF_RES    887493 non-null  object\n",
      " 3   CODE_STIF_ARRET  887493 non-null  object\n",
      " 4   LIBELLE_ARRET    887493 non-null  object\n",
      " 5   ID_REFA_LDA      887493 non-null  int64 \n",
      " 6   CATEGORIE_TITRE  887493 non-null  object\n",
      " 7   NB_VALD          887493 non-null  int64 \n",
      "dtypes: int64(3), object(5)\n",
      "memory usage: 54.2+ MB\n"
     ]
    }
   ],
   "source": [
    "nb_2020s1.info()"
   ]
  },
  {
   "cell_type": "code",
   "execution_count": 17,
   "id": "a3de4bd7",
   "metadata": {},
   "outputs": [
    {
     "name": "stdout",
     "output_type": "stream",
     "text": [
      "<class 'pandas.core.frame.DataFrame'>\n",
      "RangeIndex: 1054012 entries, 0 to 1054011\n",
      "Data columns (total 8 columns):\n",
      " #   Column           Non-Null Count    Dtype \n",
      "---  ------           --------------    ----- \n",
      " 0   JOUR             1054012 non-null  object\n",
      " 1   CODE_STIF_TRNS   1054012 non-null  int64 \n",
      " 2   CODE_STIF_RES    1054012 non-null  object\n",
      " 3   CODE_STIF_ARRET  1054012 non-null  object\n",
      " 4   LIBELLE_ARRET    1054012 non-null  object\n",
      " 5   ID_REFA_LDA      1054012 non-null  int64 \n",
      " 6   CATEGORIE_TITRE  1054012 non-null  object\n",
      " 7   NB_VALD          1054012 non-null  int64 \n",
      "dtypes: int64(3), object(5)\n",
      "memory usage: 64.3+ MB\n"
     ]
    }
   ],
   "source": [
    "nb_2020s2.info()"
   ]
  },
  {
   "cell_type": "code",
   "execution_count": 18,
   "id": "0c64bb60",
   "metadata": {},
   "outputs": [
    {
     "data": {
      "text/plain": [
       "JOUR                 182\n",
       "CODE_STIF_TRNS         3\n",
       "CODE_STIF_RES         13\n",
       "CODE_STIF_ARRET      738\n",
       "LIBELLE_ARRET        715\n",
       "ID_REFA_LDA          710\n",
       "CATEGORIE_TITRE        9\n",
       "NB_VALD            13498\n",
       "dtype: int64"
      ]
     },
     "execution_count": 18,
     "metadata": {},
     "output_type": "execute_result"
    }
   ],
   "source": [
    "nb_2020s1.nunique()"
   ]
  },
  {
   "cell_type": "code",
   "execution_count": 19,
   "id": "5fe726f0",
   "metadata": {},
   "outputs": [
    {
     "data": {
      "text/plain": [
       "JOUR                 184\n",
       "CODE_STIF_TRNS         3\n",
       "CODE_STIF_RES         13\n",
       "CODE_STIF_ARRET      745\n",
       "LIBELLE_ARRET        722\n",
       "ID_REFA_LDA          714\n",
       "CATEGORIE_TITRE        9\n",
       "NB_VALD            12594\n",
       "dtype: int64"
      ]
     },
     "execution_count": 19,
     "metadata": {},
     "output_type": "execute_result"
    }
   ],
   "source": [
    "nb_2020s2.nunique()"
   ]
  },
  {
   "cell_type": "code",
   "execution_count": 20,
   "id": "98099f9b",
   "metadata": {},
   "outputs": [
    {
     "data": {
      "text/plain": [
       "array(['110', 'ND ', '800', '803', '804', '805', '850', '851', '852',\n",
       "       '853', '854', '801', '802'], dtype=object)"
      ]
     },
     "execution_count": 20,
     "metadata": {},
     "output_type": "execute_result"
    }
   ],
   "source": [
    "nb_2020s1['CODE_STIF_RES'].unique()"
   ]
  },
  {
   "cell_type": "code",
   "execution_count": 21,
   "id": "c3e34652",
   "metadata": {},
   "outputs": [
    {
     "data": {
      "text/plain": [
       "array(['110', 'ND ', '800', '803', '804', '805', '850', '851', '852',\n",
       "       '853', '854', '801', '802'], dtype=object)"
      ]
     },
     "execution_count": 21,
     "metadata": {},
     "output_type": "execute_result"
    }
   ],
   "source": [
    "nb_2020s2['CODE_STIF_RES'].unique()"
   ]
  },
  {
   "cell_type": "code",
   "execution_count": 22,
   "id": "cb10159b",
   "metadata": {},
   "outputs": [
    {
     "data": {
      "text/plain": [
       "array(['?', 'AMETHYSTE', 'AUTRE TITRE', 'FGT', 'IMAGINE R', 'NAVIGO',\n",
       "       'NAVIGO JOUR', 'NON DEFINI', 'TST'], dtype=object)"
      ]
     },
     "execution_count": 22,
     "metadata": {},
     "output_type": "execute_result"
    }
   ],
   "source": [
    "nb_2020s1['CATEGORIE_TITRE'].unique()"
   ]
  },
  {
   "cell_type": "code",
   "execution_count": 23,
   "id": "7e153b90",
   "metadata": {},
   "outputs": [
    {
     "data": {
      "text/plain": [
       "array(['?', 'AMETHYSTE', 'AUTRE TITRE', 'FGT', 'IMAGINE R', 'NAVIGO',\n",
       "       'NAVIGO JOUR', 'NON DEFINI', 'TST'], dtype=object)"
      ]
     },
     "execution_count": 23,
     "metadata": {},
     "output_type": "execute_result"
    }
   ],
   "source": [
    "nb_2020s2['CATEGORIE_TITRE'].unique()"
   ]
  },
  {
   "cell_type": "markdown",
   "id": "57a30311",
   "metadata": {},
   "source": [
    "### Daily traffic 1st & 2nd semesters 2021"
   ]
  },
  {
   "cell_type": "code",
   "execution_count": 24,
   "id": "901842ee",
   "metadata": {},
   "outputs": [],
   "source": [
    "nb_2021s1 = pd.read_csv(\"datasets/2021_S1_NB_FER.txt\", sep=\"\\t\")\n",
    "nb_2021s2 = pd.read_csv(\"datasets/2021_S2_NB_FER.txt\", sep=\"\\t\")"
   ]
  },
  {
   "cell_type": "code",
   "execution_count": 25,
   "id": "9555b429",
   "metadata": {},
   "outputs": [
    {
     "name": "stdout",
     "output_type": "stream",
     "text": [
      "<class 'pandas.core.frame.DataFrame'>\n",
      "RangeIndex: 1064019 entries, 0 to 1064018\n",
      "Data columns (total 8 columns):\n",
      " #   Column           Non-Null Count    Dtype \n",
      "---  ------           --------------    ----- \n",
      " 0   JOUR             1064019 non-null  object\n",
      " 1   CODE_STIF_TRNS   1064019 non-null  int64 \n",
      " 2   CODE_STIF_RES    1064019 non-null  object\n",
      " 3   CODE_STIF_ARRET  1064019 non-null  object\n",
      " 4   LIBELLE_ARRET    1064019 non-null  object\n",
      " 5   ID_REFA_LDA      1064019 non-null  int64 \n",
      " 6   CATEGORIE_TITRE  1064019 non-null  object\n",
      " 7   NB_VALD          1064019 non-null  int64 \n",
      "dtypes: int64(3), object(5)\n",
      "memory usage: 64.9+ MB\n"
     ]
    }
   ],
   "source": [
    "nb_2021s1.info()"
   ]
  },
  {
   "cell_type": "code",
   "execution_count": 26,
   "id": "cf964f37",
   "metadata": {},
   "outputs": [
    {
     "name": "stdout",
     "output_type": "stream",
     "text": [
      "<class 'pandas.core.frame.DataFrame'>\n",
      "RangeIndex: 1084281 entries, 0 to 1084280\n",
      "Data columns (total 8 columns):\n",
      " #   Column           Non-Null Count    Dtype \n",
      "---  ------           --------------    ----- \n",
      " 0   JOUR             1084281 non-null  object\n",
      " 1   CODE_STIF_TRNS   1084281 non-null  int64 \n",
      " 2   CODE_STIF_RES    1084281 non-null  object\n",
      " 3   CODE_STIF_ARRET  1084281 non-null  object\n",
      " 4   LIBELLE_ARRET    1084281 non-null  object\n",
      " 5   ID_REFA_LDA      1084281 non-null  int64 \n",
      " 6   CATEGORIE_TITRE  1084281 non-null  object\n",
      " 7   NB_VALD          1084281 non-null  int64 \n",
      "dtypes: int64(3), object(5)\n",
      "memory usage: 66.2+ MB\n"
     ]
    }
   ],
   "source": [
    "nb_2021s2.info()"
   ]
  },
  {
   "cell_type": "code",
   "execution_count": 27,
   "id": "b7b42a00",
   "metadata": {},
   "outputs": [
    {
     "data": {
      "text/plain": [
       "JOUR                 181\n",
       "CODE_STIF_TRNS         3\n",
       "CODE_STIF_RES         13\n",
       "CODE_STIF_ARRET      745\n",
       "LIBELLE_ARRET        724\n",
       "ID_REFA_LDA          714\n",
       "CATEGORIE_TITRE        9\n",
       "NB_VALD            11660\n",
       "dtype: int64"
      ]
     },
     "execution_count": 27,
     "metadata": {},
     "output_type": "execute_result"
    }
   ],
   "source": [
    "nb_2021s1.nunique()"
   ]
  },
  {
   "cell_type": "code",
   "execution_count": 28,
   "id": "bd1023d6",
   "metadata": {},
   "outputs": [
    {
     "data": {
      "text/plain": [
       "JOUR                 184\n",
       "CODE_STIF_TRNS         3\n",
       "CODE_STIF_RES         13\n",
       "CODE_STIF_ARRET      748\n",
       "LIBELLE_ARRET        726\n",
       "ID_REFA_LDA          717\n",
       "CATEGORIE_TITRE        9\n",
       "NB_VALD            14887\n",
       "dtype: int64"
      ]
     },
     "execution_count": 28,
     "metadata": {},
     "output_type": "execute_result"
    }
   ],
   "source": [
    "nb_2021s2.nunique()"
   ]
  },
  {
   "cell_type": "code",
   "execution_count": 29,
   "id": "972ed464",
   "metadata": {},
   "outputs": [
    {
     "data": {
      "text/plain": [
       "array(['110', 'ND ', '800', '803', '804', '805', '850', '851', '852',\n",
       "       '853', '854', '801', '802'], dtype=object)"
      ]
     },
     "execution_count": 29,
     "metadata": {},
     "output_type": "execute_result"
    }
   ],
   "source": [
    "nb_2021s1['CODE_STIF_RES'].unique()"
   ]
  },
  {
   "cell_type": "code",
   "execution_count": 30,
   "id": "73dd57b0",
   "metadata": {},
   "outputs": [
    {
     "data": {
      "text/plain": [
       "array(['110', 'ND ', '800', '803', '804', '805', '850', '851', '852',\n",
       "       '853', '854', '801', '802'], dtype=object)"
      ]
     },
     "execution_count": 30,
     "metadata": {},
     "output_type": "execute_result"
    }
   ],
   "source": [
    "nb_2021s2['CODE_STIF_RES'].unique()"
   ]
  },
  {
   "cell_type": "code",
   "execution_count": 31,
   "id": "0acd5f14",
   "metadata": {},
   "outputs": [
    {
     "data": {
      "text/plain": [
       "array(['?', 'AMETHYSTE', 'AUTRE TITRE', 'FGT', 'IMAGINE R', 'NAVIGO',\n",
       "       'NAVIGO JOUR', 'NON DEFINI', 'TST'], dtype=object)"
      ]
     },
     "execution_count": 31,
     "metadata": {},
     "output_type": "execute_result"
    }
   ],
   "source": [
    "nb_2021s1['CATEGORIE_TITRE'].unique()"
   ]
  },
  {
   "cell_type": "code",
   "execution_count": 32,
   "id": "42f1f263",
   "metadata": {},
   "outputs": [
    {
     "data": {
      "text/plain": [
       "array(['?', 'AMETHYSTE', 'AUTRE TITRE', 'FGT', 'IMAGINE R', 'NAVIGO',\n",
       "       'NAVIGO JOUR', 'NON DEFINI', 'TST'], dtype=object)"
      ]
     },
     "execution_count": 32,
     "metadata": {},
     "output_type": "execute_result"
    }
   ],
   "source": [
    "nb_2021s2['CATEGORIE_TITRE'].unique()"
   ]
  },
  {
   "cell_type": "markdown",
   "id": "07e55cf9",
   "metadata": {},
   "source": [
    "### Daily traffic 1st semester 2022"
   ]
  },
  {
   "cell_type": "code",
   "execution_count": 33,
   "id": "490cdb79",
   "metadata": {},
   "outputs": [],
   "source": [
    "nb_2022s1 = pd.read_csv(\"datasets/2022_S1_NB_FER.csv\", sep=\";\")"
   ]
  },
  {
   "cell_type": "code",
   "execution_count": 34,
   "id": "bfc76580",
   "metadata": {},
   "outputs": [
    {
     "data": {
      "text/html": [
       "<div>\n",
       "<style scoped>\n",
       "    .dataframe tbody tr th:only-of-type {\n",
       "        vertical-align: middle;\n",
       "    }\n",
       "\n",
       "    .dataframe tbody tr th {\n",
       "        vertical-align: top;\n",
       "    }\n",
       "\n",
       "    .dataframe thead th {\n",
       "        text-align: right;\n",
       "    }\n",
       "</style>\n",
       "<table border=\"1\" class=\"dataframe\">\n",
       "  <thead>\n",
       "    <tr style=\"text-align: right;\">\n",
       "      <th></th>\n",
       "      <th>JOUR</th>\n",
       "      <th>CODE_STIF_TRNS</th>\n",
       "      <th>CODE_STIF_RES</th>\n",
       "      <th>CODE_STIF_ARRET</th>\n",
       "      <th>LIBELLE_ARRET</th>\n",
       "      <th>ID_REFA_LDA</th>\n",
       "      <th>CATEGORIE_TITRE</th>\n",
       "      <th>NB_VALD</th>\n",
       "    </tr>\n",
       "  </thead>\n",
       "  <tbody>\n",
       "    <tr>\n",
       "      <th>0</th>\n",
       "      <td>2022-06-01</td>\n",
       "      <td>800</td>\n",
       "      <td>854</td>\n",
       "      <td>903</td>\n",
       "      <td>VILLENNES-SUR-SEINE</td>\n",
       "      <td>64949</td>\n",
       "      <td>NAVIGO</td>\n",
       "      <td>485</td>\n",
       "    </tr>\n",
       "    <tr>\n",
       "      <th>1</th>\n",
       "      <td>2022-06-01</td>\n",
       "      <td>800</td>\n",
       "      <td>854</td>\n",
       "      <td>92</td>\n",
       "      <td>BONNIERES</td>\n",
       "      <td>66741</td>\n",
       "      <td>?</td>\n",
       "      <td>5</td>\n",
       "    </tr>\n",
       "    <tr>\n",
       "      <th>2</th>\n",
       "      <td>2022-06-01</td>\n",
       "      <td>800</td>\n",
       "      <td>854</td>\n",
       "      <td>92</td>\n",
       "      <td>BONNIERES</td>\n",
       "      <td>66741</td>\n",
       "      <td>AMETHYSTE</td>\n",
       "      <td>8</td>\n",
       "    </tr>\n",
       "    <tr>\n",
       "      <th>3</th>\n",
       "      <td>2022-06-01</td>\n",
       "      <td>800</td>\n",
       "      <td>854</td>\n",
       "      <td>92</td>\n",
       "      <td>BONNIERES</td>\n",
       "      <td>66741</td>\n",
       "      <td>FGT</td>\n",
       "      <td>9</td>\n",
       "    </tr>\n",
       "    <tr>\n",
       "      <th>4</th>\n",
       "      <td>2022-06-01</td>\n",
       "      <td>800</td>\n",
       "      <td>854</td>\n",
       "      <td>92</td>\n",
       "      <td>BONNIERES</td>\n",
       "      <td>66741</td>\n",
       "      <td>NAVIGO</td>\n",
       "      <td>415</td>\n",
       "    </tr>\n",
       "  </tbody>\n",
       "</table>\n",
       "</div>"
      ],
      "text/plain": [
       "         JOUR  CODE_STIF_TRNS CODE_STIF_RES CODE_STIF_ARRET  \\\n",
       "0  2022-06-01             800           854             903   \n",
       "1  2022-06-01             800           854              92   \n",
       "2  2022-06-01             800           854              92   \n",
       "3  2022-06-01             800           854              92   \n",
       "4  2022-06-01             800           854              92   \n",
       "\n",
       "         LIBELLE_ARRET  ID_REFA_LDA CATEGORIE_TITRE  NB_VALD  \n",
       "0  VILLENNES-SUR-SEINE        64949          NAVIGO      485  \n",
       "1            BONNIERES        66741               ?        5  \n",
       "2            BONNIERES        66741       AMETHYSTE        8  \n",
       "3            BONNIERES        66741             FGT        9  \n",
       "4            BONNIERES        66741          NAVIGO      415  "
      ]
     },
     "execution_count": 34,
     "metadata": {},
     "output_type": "execute_result"
    }
   ],
   "source": [
    "nb_2022s1.head()"
   ]
  },
  {
   "cell_type": "code",
   "execution_count": 35,
   "id": "3e2fda6f",
   "metadata": {},
   "outputs": [
    {
     "name": "stdout",
     "output_type": "stream",
     "text": [
      "<class 'pandas.core.frame.DataFrame'>\n",
      "RangeIndex: 1088334 entries, 0 to 1088333\n",
      "Data columns (total 8 columns):\n",
      " #   Column           Non-Null Count    Dtype \n",
      "---  ------           --------------    ----- \n",
      " 0   JOUR             1088334 non-null  object\n",
      " 1   CODE_STIF_TRNS   1088334 non-null  int64 \n",
      " 2   CODE_STIF_RES    1088334 non-null  object\n",
      " 3   CODE_STIF_ARRET  1088334 non-null  object\n",
      " 4   LIBELLE_ARRET    1088334 non-null  object\n",
      " 5   ID_REFA_LDA      1088334 non-null  int64 \n",
      " 6   CATEGORIE_TITRE  1088334 non-null  object\n",
      " 7   NB_VALD          1088334 non-null  int64 \n",
      "dtypes: int64(3), object(5)\n",
      "memory usage: 66.4+ MB\n"
     ]
    }
   ],
   "source": [
    "nb_2022s1.info()"
   ]
  },
  {
   "cell_type": "code",
   "execution_count": 36,
   "id": "9a4e35b1",
   "metadata": {},
   "outputs": [
    {
     "data": {
      "text/plain": [
       "JOUR                 181\n",
       "CODE_STIF_TRNS         3\n",
       "CODE_STIF_RES         13\n",
       "CODE_STIF_ARRET      751\n",
       "LIBELLE_ARRET        729\n",
       "ID_REFA_LDA          718\n",
       "CATEGORIE_TITRE        9\n",
       "NB_VALD            15587\n",
       "dtype: int64"
      ]
     },
     "execution_count": 36,
     "metadata": {},
     "output_type": "execute_result"
    }
   ],
   "source": [
    "nb_2022s1.nunique()"
   ]
  },
  {
   "cell_type": "code",
   "execution_count": 37,
   "id": "d2c3cf2f",
   "metadata": {},
   "outputs": [
    {
     "data": {
      "text/plain": [
       "array(['854', '801', '802', '110', '800', '803', '804', '805', '850',\n",
       "       '851', '852', '853', 'ND'], dtype=object)"
      ]
     },
     "execution_count": 37,
     "metadata": {},
     "output_type": "execute_result"
    }
   ],
   "source": [
    "nb_2022s1['CODE_STIF_RES'].unique()"
   ]
  },
  {
   "cell_type": "code",
   "execution_count": 38,
   "id": "f4e49274",
   "metadata": {},
   "outputs": [
    {
     "data": {
      "text/plain": [
       "array(['NAVIGO', '?', 'AMETHYSTE', 'FGT', 'NON DEFINI', 'IMAGINE R',\n",
       "       'NAVIGO JOUR', 'TST', 'AUTRE TITRE'], dtype=object)"
      ]
     },
     "execution_count": 38,
     "metadata": {},
     "output_type": "execute_result"
    }
   ],
   "source": [
    "nb_2022s1['CATEGORIE_TITRE'].unique()"
   ]
  },
  {
   "cell_type": "markdown",
   "id": "98284692",
   "metadata": {},
   "source": [
    "## Observations:\n",
    "AS we can see from above the dataframes for all semesters have 8 columns:\n",
    "\n",
    "* JOUR: Day of the year. The dtype is object instead of datetime.\n",
    "* CODE_STIF_TRNS: Code allocated by the STIF to identify the carrier\n",
    "* CODE_STIF_RES: Code allocated by the STIF to identify the network. Some missing values are designated by \"ND\"\n",
    "* CODE_STIF_ARRET: Code allocated by the STIF to identify the stop.\n",
    "* LIBELLE_ARRET: Name of the stop station. It has less unique values than CODE_STIF_ARRET, suggesting that one stop name can have several CODE_STIF_ARRET attached to it.\n",
    "* ID_REFA_LDA: Identification code refers to the place where different vehicles can stop. (it be used to establish links between the validation data and the other Ile-de-France Mobilités data).\n",
    "* CATEGORIE_TITRE: Ticket type used to check in. Some missing values are designated by '?'\n",
    "* NB_VALD (Number of checkins): Only the number of people entering from the road on the various rail networks are counted.\n",
    "    \n",
    "\n",
    "All dataframes contains same columns names.\n",
    "\n",
    "The total number of days are 365 in 2019 and 366 in each of 2020 and 2021. But for all dataframes, the dtype of this column is object instead of datetime.\n",
    "\n",
    "All dataframes have similar dtypes.\n",
    "\n",
    "The columns CODE_STIF_ARRET, LIBELLE_ARRET and ID_REFA_LDA have different  number of unique values in each dataframe.\n",
    "\n",
    "The CODE_STIF_RES column has values designated by 'ND' in all dataframes.\n",
    "\n",
    "We see that some missing values are designated by a question mark in the CATEGORY_TITRE column."
   ]
  },
  {
   "cell_type": "markdown",
   "id": "69292ef8",
   "metadata": {},
   "source": [
    "## Join dataframes\n",
    "**Join dataframes of each year in one dataframe ex. nb_2019s1 & nb_2019s2 -> nb-2019**"
   ]
  },
  {
   "cell_type": "code",
   "execution_count": 39,
   "id": "f6b8fcc0",
   "metadata": {},
   "outputs": [
    {
     "name": "stdout",
     "output_type": "stream",
     "text": [
      "(0, 15)\n",
      "(0, 15)\n",
      "(0, 15)\n"
     ]
    }
   ],
   "source": [
    "# Ckeck if all days date are different s1 and s2 dataframes by merging them with an inner join on the JOUR column\n",
    "\n",
    "compare = pd.merge(left = nb_2019s1, right = nb_2019s2, how = 'inner', on = 'JOUR')\n",
    "print(compare.shape)\n",
    "\n",
    "compare = pd.merge(left = nb_2020s1, right = nb_2020s2, how = 'inner', on = 'JOUR')\n",
    "print(compare.shape)\n",
    "\n",
    "compare = pd.merge(left = nb_2021s1, right = nb_2021s2, how = 'inner', on = 'JOUR')\n",
    "print(compare.shape)"
   ]
  },
  {
   "cell_type": "markdown",
   "id": "c07c283d",
   "metadata": {},
   "source": [
    "The resulting dataframes have all 0 lines, meaning that there are no common values in the JOUR columns of the s1 and s2 dataframes.\n",
    "\n"
   ]
  },
  {
   "cell_type": "code",
   "execution_count": 40,
   "id": "2c934fd0",
   "metadata": {},
   "outputs": [
    {
     "name": "stdout",
     "output_type": "stream",
     "text": [
      "[ True  True  True  True  True  True  True  True]\n",
      "[ True  True  True  True  True  True  True  True]\n",
      "[ True  True  True  True  True  True  True  True]\n"
     ]
    }
   ],
   "source": [
    "# Make sure that column names are the same in 1st & 2nd semester of 2019, 2020, & 2021\n",
    "\n",
    "print(nb_2019s1.columns == nb_2019s2.columns)\n",
    "print(nb_2020s1.columns == nb_2020s2.columns)\n",
    "print(nb_2021s1.columns == nb_2021s2.columns)"
   ]
  },
  {
   "cell_type": "code",
   "execution_count": 41,
   "id": "f8e96843",
   "metadata": {},
   "outputs": [],
   "source": [
    "# Concatenate s1 and s2 into a new dataframe\n",
    "\n",
    "nb_2019 = pd.concat([nb_2019s1, nb_2019s2], axis=0)\n",
    "nb_2020 = pd.concat([nb_2020s1, nb_2020s2], axis=0)\n",
    "nb_2021 = pd.concat([nb_2021s1, nb_2021s2], axis=0)\n",
    "nb_2022 = nb_2022s1\n"
   ]
  },
  {
   "cell_type": "markdown",
   "id": "4b749aa2",
   "metadata": {},
   "source": [
    "## Cleaning Data\n",
    "nb_20XX provide the number of validation per day, per station and per ticket type.\n",
    "\n",
    "The following opertions will be applied to the dataframes:\n",
    "\n",
    "Handle misdesignated missing values ('ND', '?')\n",
    "\n",
    "Cast datatype for the CODE_STIF_RES and CODE_STIF_ARRET columns of all dataframes to numeric\n",
    "\n",
    "Convert the JOUR column to datetime in all dataframes\n"
   ]
  },
  {
   "cell_type": "code",
   "execution_count": 42,
   "id": "ce505950",
   "metadata": {},
   "outputs": [
    {
     "name": "stdout",
     "output_type": "stream",
     "text": [
      "The non numeric values in the columns CODE_STIF_RES and CODE_STIF_ARRET for 2019\n",
      "['ND ']\n",
      "['ND']\n",
      "The non numeric values in the columns CODE_STIF_RES and CODE_STIF_ARRET for 2020\n",
      "['ND ']\n",
      "['ND']\n",
      "The non numeric values in the columns CODE_STIF_RES and CODE_STIF_ARRET for 2021\n",
      "['ND ']\n",
      "['ND']\n",
      "The non numeric values in the columns CODE_STIF_RES and CODE_STIF_ARRET for 2022\n",
      "['ND']\n",
      "['ND']\n"
     ]
    }
   ],
   "source": [
    "# Identify non numeric values in the following columns: 'CODE_STIF_RES' and 'CODE_STIF_ARRET'\n",
    "\n",
    "print('The non numeric values in the columns CODE_STIF_RES and CODE_STIF_ARRET for 2019')\n",
    "print(nb_2019.loc[~nb_2019['CODE_STIF_RES'].astype(str).str.isnumeric(),'CODE_STIF_RES'].unique())\n",
    "print(nb_2019.loc[~nb_2019['CODE_STIF_ARRET'].astype(str).str.isnumeric(),'CODE_STIF_ARRET'].unique())\n",
    "\n",
    "print('The non numeric values in the columns CODE_STIF_RES and CODE_STIF_ARRET for 2020')\n",
    "print(nb_2020.loc[~nb_2020['CODE_STIF_RES'].astype(str).str.isnumeric(),'CODE_STIF_RES'].unique())\n",
    "print(nb_2020.loc[~nb_2020['CODE_STIF_ARRET'].astype(str).str.isnumeric(),'CODE_STIF_ARRET'].unique())\n",
    "\n",
    "print('The non numeric values in the columns CODE_STIF_RES and CODE_STIF_ARRET for 2021')\n",
    "print(nb_2021.loc[~nb_2021['CODE_STIF_RES'].astype(str).str.isnumeric(),'CODE_STIF_RES'].unique())\n",
    "print(nb_2021.loc[~nb_2021['CODE_STIF_ARRET'].astype(str).str.isnumeric(),'CODE_STIF_ARRET'].unique())\n",
    "\n",
    "print('The non numeric values in the columns CODE_STIF_RES and CODE_STIF_ARRET for 2022')\n",
    "print(nb_2022.loc[~nb_2022['CODE_STIF_RES'].astype(str).str.isnumeric(),'CODE_STIF_RES'].unique())\n",
    "print(nb_2022.loc[~nb_2022['CODE_STIF_ARRET'].astype(str).str.isnumeric(),'CODE_STIF_ARRET'].unique())\n"
   ]
  },
  {
   "cell_type": "code",
   "execution_count": 43,
   "id": "961d05fc",
   "metadata": {},
   "outputs": [],
   "source": [
    "# Casting CODE_STIF_RES & CODE_STIF_ARRET and replacing non-numeric values by np.nan using keyword argument in the pd.to_numeric() function.\n",
    "\n",
    "nb_2019['CODE_STIF_RES'] = pd.to_numeric(nb_2019['CODE_STIF_RES'], errors = 'coerce', downcast='integer')\n",
    "nb_2019['CODE_STIF_ARRET'] = pd.to_numeric(nb_2019['CODE_STIF_ARRET'], errors = 'coerce', downcast='integer')\n",
    "\n",
    "nb_2020['CODE_STIF_RES'] = pd.to_numeric(nb_2020['CODE_STIF_RES'], errors = 'coerce', downcast='integer')\n",
    "nb_2020['CODE_STIF_ARRET'] = pd.to_numeric(nb_2020['CODE_STIF_ARRET'], errors = 'coerce', downcast='integer')\n",
    "\n",
    "nb_2021['CODE_STIF_RES'] = pd.to_numeric(nb_2021['CODE_STIF_RES'], errors = 'coerce', downcast='integer')\n",
    "nb_2021['CODE_STIF_ARRET'] = pd.to_numeric(nb_2021['CODE_STIF_ARRET'], errors = 'coerce', downcast='integer')\n",
    "\n",
    "nb_2022['CODE_STIF_RES'] = pd.to_numeric(nb_2022['CODE_STIF_RES'], errors = 'coerce', downcast='integer')\n",
    "nb_2022['CODE_STIF_ARRET'] = pd.to_numeric(nb_2022['CODE_STIF_ARRET'], errors = 'coerce', downcast='integer')\n",
    "\n"
   ]
  },
  {
   "cell_type": "code",
   "execution_count": 44,
   "id": "d6903e62",
   "metadata": {},
   "outputs": [
    {
     "data": {
      "text/plain": [
       "array([110.,  nan, 800., 803., 804., 805., 850., 851., 852., 853., 854.,\n",
       "       801., 802.])"
      ]
     },
     "execution_count": 44,
     "metadata": {},
     "output_type": "execute_result"
    }
   ],
   "source": [
    "nb_2019['CODE_STIF_RES'].unique()"
   ]
  },
  {
   "cell_type": "code",
   "execution_count": 45,
   "id": "dd548a29",
   "metadata": {},
   "outputs": [
    {
     "name": "stdout",
     "output_type": "stream",
     "text": [
      "<class 'pandas.core.frame.DataFrame'>\n",
      "Int64Index: 1888305 entries, 0 to 953453\n",
      "Data columns (total 8 columns):\n",
      " #   Column           Dtype  \n",
      "---  ------           -----  \n",
      " 0   JOUR             object \n",
      " 1   CODE_STIF_TRNS   int64  \n",
      " 2   CODE_STIF_RES    float64\n",
      " 3   CODE_STIF_ARRET  float64\n",
      " 4   LIBELLE_ARRET    object \n",
      " 5   ID_REFA_LDA      int64  \n",
      " 6   CATEGORIE_TITRE  object \n",
      " 7   NB_VALD          int64  \n",
      "dtypes: float64(2), int64(3), object(3)\n",
      "memory usage: 129.7+ MB\n"
     ]
    }
   ],
   "source": [
    "nb_2019.info()"
   ]
  },
  {
   "cell_type": "code",
   "execution_count": 46,
   "id": "b11e7823",
   "metadata": {},
   "outputs": [
    {
     "data": {
      "text/plain": [
       "JOUR                  0\n",
       "CODE_STIF_TRNS        0\n",
       "CODE_STIF_RES      3003\n",
       "CODE_STIF_ARRET    3003\n",
       "LIBELLE_ARRET         0\n",
       "ID_REFA_LDA           0\n",
       "CATEGORIE_TITRE       0\n",
       "NB_VALD               0\n",
       "dtype: int64"
      ]
     },
     "execution_count": 46,
     "metadata": {},
     "output_type": "execute_result"
    }
   ],
   "source": [
    "nb_2019.isnull().sum()"
   ]
  },
  {
   "cell_type": "code",
   "execution_count": 47,
   "id": "12c36997",
   "metadata": {},
   "outputs": [
    {
     "data": {
      "text/plain": [
       "JOUR                  0\n",
       "CODE_STIF_TRNS        0\n",
       "CODE_STIF_RES      2906\n",
       "CODE_STIF_ARRET    2906\n",
       "LIBELLE_ARRET         0\n",
       "ID_REFA_LDA           0\n",
       "CATEGORIE_TITRE       0\n",
       "NB_VALD               0\n",
       "dtype: int64"
      ]
     },
     "execution_count": 47,
     "metadata": {},
     "output_type": "execute_result"
    }
   ],
   "source": [
    "nb_2020.isnull().sum()"
   ]
  },
  {
   "cell_type": "code",
   "execution_count": 48,
   "id": "ce61da95",
   "metadata": {},
   "outputs": [
    {
     "data": {
      "text/plain": [
       "JOUR                  0\n",
       "CODE_STIF_TRNS        0\n",
       "CODE_STIF_RES      1727\n",
       "CODE_STIF_ARRET    1727\n",
       "LIBELLE_ARRET         0\n",
       "ID_REFA_LDA           0\n",
       "CATEGORIE_TITRE       0\n",
       "NB_VALD               0\n",
       "dtype: int64"
      ]
     },
     "execution_count": 48,
     "metadata": {},
     "output_type": "execute_result"
    }
   ],
   "source": [
    "nb_2021.isnull().sum()"
   ]
  },
  {
   "cell_type": "code",
   "execution_count": 49,
   "id": "6e735143",
   "metadata": {},
   "outputs": [
    {
     "data": {
      "text/plain": [
       "JOUR                 0\n",
       "CODE_STIF_TRNS       0\n",
       "CODE_STIF_RES      802\n",
       "CODE_STIF_ARRET    802\n",
       "LIBELLE_ARRET        0\n",
       "ID_REFA_LDA          0\n",
       "CATEGORIE_TITRE      0\n",
       "NB_VALD              0\n",
       "dtype: int64"
      ]
     },
     "execution_count": 49,
     "metadata": {},
     "output_type": "execute_result"
    }
   ],
   "source": [
    "nb_2022.isnull().sum()"
   ]
  },
  {
   "cell_type": "code",
   "execution_count": 50,
   "id": "7eb8049c",
   "metadata": {},
   "outputs": [
    {
     "data": {
      "text/html": [
       "<div>\n",
       "<style scoped>\n",
       "    .dataframe tbody tr th:only-of-type {\n",
       "        vertical-align: middle;\n",
       "    }\n",
       "\n",
       "    .dataframe tbody tr th {\n",
       "        vertical-align: top;\n",
       "    }\n",
       "\n",
       "    .dataframe thead th {\n",
       "        text-align: right;\n",
       "    }\n",
       "</style>\n",
       "<table border=\"1\" class=\"dataframe\">\n",
       "  <thead>\n",
       "    <tr style=\"text-align: right;\">\n",
       "      <th></th>\n",
       "      <th>JOUR</th>\n",
       "      <th>CODE_STIF_TRNS</th>\n",
       "      <th>CODE_STIF_RES</th>\n",
       "      <th>CODE_STIF_ARRET</th>\n",
       "      <th>LIBELLE_ARRET</th>\n",
       "      <th>ID_REFA_LDA</th>\n",
       "      <th>CATEGORIE_TITRE</th>\n",
       "      <th>NB_VALD</th>\n",
       "    </tr>\n",
       "  </thead>\n",
       "  <tbody>\n",
       "    <tr>\n",
       "      <th>2066</th>\n",
       "      <td>01/01/2019</td>\n",
       "      <td>100</td>\n",
       "      <td>NaN</td>\n",
       "      <td>NaN</td>\n",
       "      <td>Inconnu</td>\n",
       "      <td>0</td>\n",
       "      <td>?</td>\n",
       "      <td>169</td>\n",
       "    </tr>\n",
       "    <tr>\n",
       "      <th>2067</th>\n",
       "      <td>01/01/2019</td>\n",
       "      <td>100</td>\n",
       "      <td>NaN</td>\n",
       "      <td>NaN</td>\n",
       "      <td>Inconnu</td>\n",
       "      <td>0</td>\n",
       "      <td>AMETHYSTE</td>\n",
       "      <td>173</td>\n",
       "    </tr>\n",
       "    <tr>\n",
       "      <th>2068</th>\n",
       "      <td>01/01/2019</td>\n",
       "      <td>100</td>\n",
       "      <td>NaN</td>\n",
       "      <td>NaN</td>\n",
       "      <td>Inconnu</td>\n",
       "      <td>0</td>\n",
       "      <td>FGT</td>\n",
       "      <td>215</td>\n",
       "    </tr>\n",
       "    <tr>\n",
       "      <th>2069</th>\n",
       "      <td>01/01/2019</td>\n",
       "      <td>100</td>\n",
       "      <td>NaN</td>\n",
       "      <td>NaN</td>\n",
       "      <td>Inconnu</td>\n",
       "      <td>0</td>\n",
       "      <td>IMAGINE R</td>\n",
       "      <td>487</td>\n",
       "    </tr>\n",
       "    <tr>\n",
       "      <th>2070</th>\n",
       "      <td>01/01/2019</td>\n",
       "      <td>100</td>\n",
       "      <td>NaN</td>\n",
       "      <td>NaN</td>\n",
       "      <td>Inconnu</td>\n",
       "      <td>0</td>\n",
       "      <td>NAVIGO</td>\n",
       "      <td>3264</td>\n",
       "    </tr>\n",
       "  </tbody>\n",
       "</table>\n",
       "</div>"
      ],
      "text/plain": [
       "            JOUR  CODE_STIF_TRNS  CODE_STIF_RES  CODE_STIF_ARRET  \\\n",
       "2066  01/01/2019             100            NaN              NaN   \n",
       "2067  01/01/2019             100            NaN              NaN   \n",
       "2068  01/01/2019             100            NaN              NaN   \n",
       "2069  01/01/2019             100            NaN              NaN   \n",
       "2070  01/01/2019             100            NaN              NaN   \n",
       "\n",
       "     LIBELLE_ARRET  ID_REFA_LDA CATEGORIE_TITRE  NB_VALD  \n",
       "2066       Inconnu            0               ?      169  \n",
       "2067       Inconnu            0       AMETHYSTE      173  \n",
       "2068       Inconnu            0             FGT      215  \n",
       "2069       Inconnu            0       IMAGINE R      487  \n",
       "2070       Inconnu            0          NAVIGO     3264  "
      ]
     },
     "execution_count": 50,
     "metadata": {},
     "output_type": "execute_result"
    }
   ],
   "source": [
    "nb_2019.loc[nb_2019['CODE_STIF_RES'].isnull(), 'LIBELLE_ARRET'].unique()\n",
    "nb_2019.loc[nb_2019['LIBELLE_ARRET'] == 'Inconnu'].head()"
   ]
  },
  {
   "cell_type": "code",
   "execution_count": 51,
   "id": "539446b0",
   "metadata": {},
   "outputs": [
    {
     "data": {
      "text/html": [
       "<div>\n",
       "<style scoped>\n",
       "    .dataframe tbody tr th:only-of-type {\n",
       "        vertical-align: middle;\n",
       "    }\n",
       "\n",
       "    .dataframe tbody tr th {\n",
       "        vertical-align: top;\n",
       "    }\n",
       "\n",
       "    .dataframe thead th {\n",
       "        text-align: right;\n",
       "    }\n",
       "</style>\n",
       "<table border=\"1\" class=\"dataframe\">\n",
       "  <thead>\n",
       "    <tr style=\"text-align: right;\">\n",
       "      <th></th>\n",
       "      <th>JOUR</th>\n",
       "      <th>CODE_STIF_TRNS</th>\n",
       "      <th>CODE_STIF_RES</th>\n",
       "      <th>CODE_STIF_ARRET</th>\n",
       "      <th>LIBELLE_ARRET</th>\n",
       "      <th>ID_REFA_LDA</th>\n",
       "      <th>CATEGORIE_TITRE</th>\n",
       "      <th>NB_VALD</th>\n",
       "    </tr>\n",
       "  </thead>\n",
       "  <tbody>\n",
       "    <tr>\n",
       "      <th>69484</th>\n",
       "      <td>2022-01-01</td>\n",
       "      <td>800</td>\n",
       "      <td>854.0</td>\n",
       "      <td>394.0</td>\n",
       "      <td>LA DEFENSE-GRANDE ARCHE</td>\n",
       "      <td>71517</td>\n",
       "      <td>AMETHYSTE</td>\n",
       "      <td>81</td>\n",
       "    </tr>\n",
       "    <tr>\n",
       "      <th>69742</th>\n",
       "      <td>2022-01-01</td>\n",
       "      <td>810</td>\n",
       "      <td>801.0</td>\n",
       "      <td>393.0</td>\n",
       "      <td>LA DEFENSE-GRANDE ARCHE</td>\n",
       "      <td>71517</td>\n",
       "      <td>FGT</td>\n",
       "      <td>287</td>\n",
       "    </tr>\n",
       "    <tr>\n",
       "      <th>69745</th>\n",
       "      <td>2022-01-01</td>\n",
       "      <td>810</td>\n",
       "      <td>801.0</td>\n",
       "      <td>393.0</td>\n",
       "      <td>LA DEFENSE-GRANDE ARCHE</td>\n",
       "      <td>71517</td>\n",
       "      <td>IMAGINE R</td>\n",
       "      <td>1533</td>\n",
       "    </tr>\n",
       "    <tr>\n",
       "      <th>95410</th>\n",
       "      <td>2022-01-01</td>\n",
       "      <td>800</td>\n",
       "      <td>854.0</td>\n",
       "      <td>394.0</td>\n",
       "      <td>LA DEFENSE-GRANDE ARCHE</td>\n",
       "      <td>71517</td>\n",
       "      <td>NAVIGO</td>\n",
       "      <td>2465</td>\n",
       "    </tr>\n",
       "    <tr>\n",
       "      <th>95412</th>\n",
       "      <td>2022-01-01</td>\n",
       "      <td>800</td>\n",
       "      <td>854.0</td>\n",
       "      <td>394.0</td>\n",
       "      <td>LA DEFENSE-GRANDE ARCHE</td>\n",
       "      <td>71517</td>\n",
       "      <td>NON DEFINI</td>\n",
       "      <td>184</td>\n",
       "    </tr>\n",
       "    <tr>\n",
       "      <th>95580</th>\n",
       "      <td>2022-01-01</td>\n",
       "      <td>810</td>\n",
       "      <td>801.0</td>\n",
       "      <td>393.0</td>\n",
       "      <td>LA DEFENSE-GRANDE ARCHE</td>\n",
       "      <td>71517</td>\n",
       "      <td>AUTRE TITRE</td>\n",
       "      <td>286</td>\n",
       "    </tr>\n",
       "    <tr>\n",
       "      <th>277773</th>\n",
       "      <td>2022-01-01</td>\n",
       "      <td>800</td>\n",
       "      <td>854.0</td>\n",
       "      <td>394.0</td>\n",
       "      <td>LA DEFENSE-GRANDE ARCHE</td>\n",
       "      <td>71517</td>\n",
       "      <td>IMAGINE R</td>\n",
       "      <td>1047</td>\n",
       "    </tr>\n",
       "    <tr>\n",
       "      <th>278034</th>\n",
       "      <td>2022-01-01</td>\n",
       "      <td>810</td>\n",
       "      <td>801.0</td>\n",
       "      <td>393.0</td>\n",
       "      <td>LA DEFENSE-GRANDE ARCHE</td>\n",
       "      <td>71517</td>\n",
       "      <td>NON DEFINI</td>\n",
       "      <td>808</td>\n",
       "    </tr>\n",
       "    <tr>\n",
       "      <th>404750</th>\n",
       "      <td>2022-01-01</td>\n",
       "      <td>800</td>\n",
       "      <td>854.0</td>\n",
       "      <td>394.0</td>\n",
       "      <td>LA DEFENSE-GRANDE ARCHE</td>\n",
       "      <td>71517</td>\n",
       "      <td>FGT</td>\n",
       "      <td>176</td>\n",
       "    </tr>\n",
       "    <tr>\n",
       "      <th>404753</th>\n",
       "      <td>2022-01-01</td>\n",
       "      <td>800</td>\n",
       "      <td>854.0</td>\n",
       "      <td>394.0</td>\n",
       "      <td>LA DEFENSE-GRANDE ARCHE</td>\n",
       "      <td>71517</td>\n",
       "      <td>NAVIGO JOUR</td>\n",
       "      <td>20</td>\n",
       "    </tr>\n",
       "    <tr>\n",
       "      <th>404756</th>\n",
       "      <td>2022-01-01</td>\n",
       "      <td>800</td>\n",
       "      <td>854.0</td>\n",
       "      <td>394.0</td>\n",
       "      <td>LA DEFENSE-GRANDE ARCHE</td>\n",
       "      <td>71517</td>\n",
       "      <td>TST</td>\n",
       "      <td>345</td>\n",
       "    </tr>\n",
       "    <tr>\n",
       "      <th>404999</th>\n",
       "      <td>2022-01-01</td>\n",
       "      <td>810</td>\n",
       "      <td>801.0</td>\n",
       "      <td>393.0</td>\n",
       "      <td>LA DEFENSE-GRANDE ARCHE</td>\n",
       "      <td>71517</td>\n",
       "      <td>AMETHYSTE</td>\n",
       "      <td>169</td>\n",
       "    </tr>\n",
       "    <tr>\n",
       "      <th>405002</th>\n",
       "      <td>2022-01-01</td>\n",
       "      <td>810</td>\n",
       "      <td>801.0</td>\n",
       "      <td>393.0</td>\n",
       "      <td>LA DEFENSE-GRANDE ARCHE</td>\n",
       "      <td>71517</td>\n",
       "      <td>NAVIGO</td>\n",
       "      <td>4141</td>\n",
       "    </tr>\n",
       "    <tr>\n",
       "      <th>917209</th>\n",
       "      <td>2022-01-01</td>\n",
       "      <td>800</td>\n",
       "      <td>854.0</td>\n",
       "      <td>394.0</td>\n",
       "      <td>LA DEFENSE-GRANDE ARCHE</td>\n",
       "      <td>71517</td>\n",
       "      <td>?</td>\n",
       "      <td>74</td>\n",
       "    </tr>\n",
       "    <tr>\n",
       "      <th>917405</th>\n",
       "      <td>2022-01-01</td>\n",
       "      <td>810</td>\n",
       "      <td>801.0</td>\n",
       "      <td>393.0</td>\n",
       "      <td>LA DEFENSE-GRANDE ARCHE</td>\n",
       "      <td>71517</td>\n",
       "      <td>?</td>\n",
       "      <td>56</td>\n",
       "    </tr>\n",
       "    <tr>\n",
       "      <th>917407</th>\n",
       "      <td>2022-01-01</td>\n",
       "      <td>810</td>\n",
       "      <td>801.0</td>\n",
       "      <td>393.0</td>\n",
       "      <td>LA DEFENSE-GRANDE ARCHE</td>\n",
       "      <td>71517</td>\n",
       "      <td>NAVIGO JOUR</td>\n",
       "      <td>31</td>\n",
       "    </tr>\n",
       "    <tr>\n",
       "      <th>917409</th>\n",
       "      <td>2022-01-01</td>\n",
       "      <td>810</td>\n",
       "      <td>801.0</td>\n",
       "      <td>393.0</td>\n",
       "      <td>LA DEFENSE-GRANDE ARCHE</td>\n",
       "      <td>71517</td>\n",
       "      <td>TST</td>\n",
       "      <td>624</td>\n",
       "    </tr>\n",
       "  </tbody>\n",
       "</table>\n",
       "</div>"
      ],
      "text/plain": [
       "              JOUR  CODE_STIF_TRNS  CODE_STIF_RES  CODE_STIF_ARRET  \\\n",
       "69484   2022-01-01             800          854.0            394.0   \n",
       "69742   2022-01-01             810          801.0            393.0   \n",
       "69745   2022-01-01             810          801.0            393.0   \n",
       "95410   2022-01-01             800          854.0            394.0   \n",
       "95412   2022-01-01             800          854.0            394.0   \n",
       "95580   2022-01-01             810          801.0            393.0   \n",
       "277773  2022-01-01             800          854.0            394.0   \n",
       "278034  2022-01-01             810          801.0            393.0   \n",
       "404750  2022-01-01             800          854.0            394.0   \n",
       "404753  2022-01-01             800          854.0            394.0   \n",
       "404756  2022-01-01             800          854.0            394.0   \n",
       "404999  2022-01-01             810          801.0            393.0   \n",
       "405002  2022-01-01             810          801.0            393.0   \n",
       "917209  2022-01-01             800          854.0            394.0   \n",
       "917405  2022-01-01             810          801.0            393.0   \n",
       "917407  2022-01-01             810          801.0            393.0   \n",
       "917409  2022-01-01             810          801.0            393.0   \n",
       "\n",
       "                  LIBELLE_ARRET  ID_REFA_LDA CATEGORIE_TITRE  NB_VALD  \n",
       "69484   LA DEFENSE-GRANDE ARCHE        71517       AMETHYSTE       81  \n",
       "69742   LA DEFENSE-GRANDE ARCHE        71517             FGT      287  \n",
       "69745   LA DEFENSE-GRANDE ARCHE        71517       IMAGINE R     1533  \n",
       "95410   LA DEFENSE-GRANDE ARCHE        71517          NAVIGO     2465  \n",
       "95412   LA DEFENSE-GRANDE ARCHE        71517      NON DEFINI      184  \n",
       "95580   LA DEFENSE-GRANDE ARCHE        71517     AUTRE TITRE      286  \n",
       "277773  LA DEFENSE-GRANDE ARCHE        71517       IMAGINE R     1047  \n",
       "278034  LA DEFENSE-GRANDE ARCHE        71517      NON DEFINI      808  \n",
       "404750  LA DEFENSE-GRANDE ARCHE        71517             FGT      176  \n",
       "404753  LA DEFENSE-GRANDE ARCHE        71517     NAVIGO JOUR       20  \n",
       "404756  LA DEFENSE-GRANDE ARCHE        71517             TST      345  \n",
       "404999  LA DEFENSE-GRANDE ARCHE        71517       AMETHYSTE      169  \n",
       "405002  LA DEFENSE-GRANDE ARCHE        71517          NAVIGO     4141  \n",
       "917209  LA DEFENSE-GRANDE ARCHE        71517               ?       74  \n",
       "917405  LA DEFENSE-GRANDE ARCHE        71517               ?       56  \n",
       "917407  LA DEFENSE-GRANDE ARCHE        71517     NAVIGO JOUR       31  \n",
       "917409  LA DEFENSE-GRANDE ARCHE        71517             TST      624  "
      ]
     },
     "execution_count": 51,
     "metadata": {},
     "output_type": "execute_result"
    }
   ],
   "source": [
    "nb_2022.loc[(nb_2022['JOUR'] == '2022-01-01')&(nb_2022['LIBELLE_ARRET']=='LA DEFENSE-GRANDE ARCHE')]\n"
   ]
  },
  {
   "cell_type": "markdown",
   "id": "666ea3b8",
   "metadata": {},
   "source": [
    "Looking at the dataframe above, we see that for 1 ID_REFA_LDA, there are multiple CODE_STIF_ARRET. The CODE_STIF_ARRET is different for each CODE_STIF_RES (network category) within a station."
   ]
  },
  {
   "cell_type": "markdown",
   "id": "2f55e408",
   "metadata": {},
   "source": [
    "### Drop columns"
   ]
  },
  {
   "cell_type": "code",
   "execution_count": 52,
   "id": "f314952a",
   "metadata": {},
   "outputs": [],
   "source": [
    "# List of columns to drop\n",
    "col_todrop = ['CODE_STIF_TRNS', 'CODE_STIF_RES', 'CODE_STIF_ARRET']\n",
    "\n",
    "# Drop columns\n",
    "nb_2019.drop(['CODE_STIF_TRNS','CODE_STIF_RES','CODE_STIF_ARRET'], axis=1, inplace=True)\n",
    "nb_2020.drop(['CODE_STIF_TRNS','CODE_STIF_RES','CODE_STIF_ARRET'], axis=1, inplace=True)\n",
    "nb_2021.drop(['CODE_STIF_TRNS','CODE_STIF_RES','CODE_STIF_ARRET'], axis=1, inplace=True)\n",
    "nb_2022.drop(['CODE_STIF_TRNS','CODE_STIF_RES','CODE_STIF_ARRET'], axis=1, inplace=True)\n"
   ]
  },
  {
   "cell_type": "markdown",
   "id": "f0c4594f",
   "metadata": {},
   "source": [
    "## Export to .csv"
   ]
  },
  {
   "cell_type": "code",
   "execution_count": 53,
   "id": "f77d3224",
   "metadata": {},
   "outputs": [],
   "source": [
    "nb_2019.to_csv('datasets/nb_2019.csv', index=None)\n",
    "nb_2020.to_csv('datasets/nb_2020.csv', index=None)\n",
    "nb_2021.to_csv('datasets/nb_2021.csv', index=None)\n",
    "nb_2022.to_csv('datasets/nb_2022.csv', index=None)\n"
   ]
  }
 ],
 "metadata": {
  "kernelspec": {
   "display_name": "Python 3",
   "language": "python",
   "name": "python3"
  },
  "language_info": {
   "codemirror_mode": {
    "name": "ipython",
    "version": 3
   },
   "file_extension": ".py",
   "mimetype": "text/x-python",
   "name": "python",
   "nbconvert_exporter": "python",
   "pygments_lexer": "ipython3",
   "version": "3.8.8"
  }
 },
 "nbformat": 4,
 "nbformat_minor": 5
}
